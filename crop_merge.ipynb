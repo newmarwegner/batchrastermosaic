{
 "cells": [
  {
   "cell_type": "code",
   "execution_count": 177,
   "id": "3305582d-3337-4cd6-8f2c-eb0ceafddf20",
   "metadata": {},
   "outputs": [],
   "source": [
    "import os\n",
    "import rasterio\n",
    "import rasterio.mask\n",
    "from rasterio.merge import merge\n",
    "import geopandas as gpd"
   ]
  },
  {
   "cell_type": "code",
   "execution_count": 182,
   "id": "be1ae71d-c5b2-4b97-99d8-36d6aaf73402",
   "metadata": {},
   "outputs": [],
   "source": [
    "def rasters(path):\n",
    "    path_rasters = []\n",
    "    for root, directory, files in os.walk(path):\n",
    "        for file in files:\n",
    "            path_rasters.append(os.path.join(root,file))\n",
    "            \n",
    "    return path_rasters\n",
    "\n",
    "def get_bounding(dist_crop, indice):\n",
    "    gdf = gpd.read_file('./footprints.gpkg',driver=\"GPKG\")\n",
    "    filter = gdf[\"indice\"] == int(indice)\n",
    "            \n",
    "    return gdf[filter].buffer(dist_crop).head(1)\n",
    "\n",
    "def crop_export(dist_crop,bits):\n",
    "    path_rasters = rasters('./rasters')\n",
    "    \n",
    "    for raster_path in path_rasters:\n",
    "        indice = raster_path.split('/')[-1].split('_')[0] #split para retirar o numero indice do titulo da imagem\n",
    "        bounding = get_bounding(dist_crop, indice)\n",
    "\n",
    "        with rasterio.open(raster_path, 'r') as dst:\n",
    "            out_image, out_transform = rasterio.mask.mask(dst, bounding, crop=False)\n",
    "            prof = dst.profile\n",
    "            \n",
    "        with rasterio.open(f'./output/cropped_{indice}.tif',\"w\", **prof) as dest:\n",
    "            dest.write(out_image.astype(bits))\n",
    "\n",
    "def create_filestomosaic(path):\n",
    "    images_to_mosaic = rasters('./output')\n",
    "\n",
    "    src_files=[]\n",
    " \n",
    "    for fp in images_to_mosaic:\n",
    "        src = rasterio.open(fp)\n",
    "        src_files.append(src)\n",
    "        out_meta = src.meta.copy()\n",
    "\n",
    "    return out_meta, src.crs, src_files            \n",
    "            \n",
    "def gen_mosaic(bits):\n",
    "    \n",
    "    out_meta, crs, src_files_to_mosaic = create_filestomosaic('./output/')\n",
    "    mosaic, out_trans = merge(src_files_to_mosaic, dtype=bits)\n",
    "\n",
    "    return crs, out_meta, mosaic, out_trans\n",
    "            \n",
    "    \n",
    "def create_mosaic(bits):\n",
    "    \n",
    "    if bits == 8:\n",
    "        bits = rasterio.uint8\n",
    "    else:\n",
    "        bits = rasterio.uint16\n",
    "    \n",
    "    crop_export(-300, bits)\n",
    "    \n",
    "    crs, out_meta, mosaic, out_trans = gen_mosaic(bits)\n",
    "    out_meta.update({\"driver\": \"GTiff\",\n",
    "                     \"height\": mosaic.shape[1],\n",
    "                     \"width\": mosaic.shape[2],\n",
    "                     \"transform\": out_trans,\n",
    "                     \"dtype\": bits,\n",
    "                     \"compress\": 'LZW',\n",
    "                     \"crs\": crs\n",
    "                     }\n",
    "                    )\n",
    "\n",
    "    with rasterio.open(\n",
    "            f'./output/rasterio.tif',\n",
    "            \"w\", **out_meta) as dest:\n",
    "        dest.write(mosaic.astype(bits))\n",
    "\n",
    "    return\n",
    "\n",
    "if __name__== '__main__':\n",
    "    create_mosaic(8)\n",
    "    "
   ]
  },
  {
   "cell_type": "code",
   "execution_count": 183,
   "id": "266873a1-ba65-4bce-a21b-61858a8f781b",
   "metadata": {},
   "outputs": [],
   "source": []
  },
  {
   "cell_type": "code",
   "execution_count": 186,
   "id": "a7a45e18-f8a0-4c99-b7bd-a020389edec7",
   "metadata": {},
   "outputs": [
    {
     "ename": "SyntaxError",
     "evalue": "can't use starred expression here (1411769123.py, line 4)",
     "output_type": "error",
     "traceback": [
      "\u001b[0;36m  File \u001b[0;32m\"/tmp/ipykernel_10396/1411769123.py\"\u001b[0;36m, line \u001b[0;32m4\u001b[0m\n\u001b[0;31mSyntaxError\u001b[0m\u001b[0;31m:\u001b[0m can't use starred expression here\n"
     ]
    }
   ],
   "source": []
  },
  {
   "cell_type": "code",
   "execution_count": null,
   "id": "0fbaffc2-2dc6-4a89-a854-681383ed6bdf",
   "metadata": {},
   "outputs": [],
   "source": []
  }
 ],
 "metadata": {
  "kernelspec": {
   "display_name": "Python 3 (ipykernel)",
   "language": "python",
   "name": "python3"
  },
  "language_info": {
   "codemirror_mode": {
    "name": "ipython",
    "version": 3
   },
   "file_extension": ".py",
   "mimetype": "text/x-python",
   "name": "python",
   "nbconvert_exporter": "python",
   "pygments_lexer": "ipython3",
   "version": "3.8.10"
  }
 },
 "nbformat": 4,
 "nbformat_minor": 5
}
